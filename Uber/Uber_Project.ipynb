{
 "cells": [
  {
   "cell_type": "markdown",
   "metadata": {},
   "source": [
    "# **Uber Data Analysis Project**\n",
    "This data project includes 2 part\n",
    "\n",
    "**Part 1**: Insights from City Supply and Demand Data\n",
    "\n",
    "In this section, we use the data provided to answer questions to provide insights into customer needs and Uber's service capabilities.\n",
    "\n",
    "Q1. Name the 72 hour period with the highest amount of zeroes?\n",
    "\n",
    "Q2. Between the 1st and 5th of February, which dates has the most completed trips?\n",
    "\n",
    "Q3. What hour of the day had the most completed trips on February 11? \n",
    "\n",
    "Q4. What hour of the day from the 15 day period in February had the last number of requests?\n",
    "\n",
    "Q5. What is percentage of all the eyeballs that ocurred on Friday?\n",
    "\n",
    "Q6. What is the weighted average of requests per driver for the 15 day data set? \n",
    "\n",
    "Q7. Driver's schedules area drafted in 4 hour shifts, and Uber wants to change this to 8 hour shifts. Calculate which shift has the highest requests for the 15 day data set.\n",
    "\n",
    "Q8. When the number of unique drivers increases so does the number of eyeballs?\n",
    "\n",
    "Q9. On which day of the ratio the highest for the number of completed trips to requests?\n",
    "\n",
    "Q10. If you have 10 drivers to add ton one hour throughout the 15 data set, which hour would you add them to?\n",
    "\n",
    "Q11. How many hours of data are in this data set?\n",
    "\n",
    "Q12. Use the data to determine when the best end-of-day is for drivers?\n",
    "\n",
    "Q13. Which was the busiest 4 hour period in the data?\n",
    "\n",
    "**Part 2**: Partner Business Modeling\n",
    "\n",
    "In this section, we use the provided data to answer the questions in the two cases to determine the business partner model.\n",
    "\n",
    "*Scenario 1*: The 4th of July is coming up and the maximum fleet is needed. In order to get drivers to go online, we're assessing the following two bonus options in terms of cost:\n",
    "\n",
    "- Promotion 1: $100 bonus to each driver who is online for at least 5 hours, accepts more than 78% of requests, completes 15 trips and has a 4 or 5 rating at this time.\n",
    "\n",
    "- Promotion 2: A $5 bonus per trip to each driver that completes at least 15 trips and has a rating at least 4.\n",
    "\n",
    "Q1. How much will drivers be paid with Promotion 1?\n",
    "\n",
    "Q2. How much will drivers be paid with Promotion 2?\n",
    "\n",
    "Q3. How many drivers would qualify for a bonus under Promotion 1 but not under Promotion 2?\n",
    "\n",
    "Q4. Uber wants to give out awards to its drivers. Award criteria: Complete more than 23 trips in an 8 hour shift with an 80% acceptance rate and a rating of 4 or 5. Please determine which drivers will be given awards?\n",
    "\n",
    "*Scenario 2*: A taxi driver currently generates $300 per day in fares (before expenses), works five days a week, takes two weeks off, and has the following expenses:\n",
    "\n",
    "- Gas is $100 per week\n",
    "- Insurance is $400 per month\n",
    "- Prius lease is $300 per week (Vehicle rent)\n",
    "\n",
    "The driver doesn't pay gas and rent expenses on off weeks.\n",
    "\n",
    "A driver wants to upgrade from X to Black driver. The driver needs to purchase a new vehicle. They want to upgrade to a 2015 Hyundai Sonata. Assuming Hyundai Sonata costs is $49500.\n",
    "\n",
    "Q1. Calculate the net income for a driver in a year\n",
    "\n",
    "Q2. How much would the driver's gross fares need to increase per week to fully pay for the car in year 1 and maintain the same yearly profit margin as before?\n",
    "\n"
   ]
  },
  {
   "cell_type": "code",
   "execution_count": 378,
   "metadata": {},
   "outputs": [],
   "source": [
    "# import libs\n",
    "import pandas as pd \n",
    "import numpy as np\n",
    "\n",
    "# visualization libs\n",
    "import matplotlib.pyplot as plt \n",
    "import seaborn as sns "
   ]
  },
  {
   "cell_type": "markdown",
   "metadata": {},
   "source": [
    "## **Part 1**: Insight from City Supply and Demand Data"
   ]
  },
  {
   "cell_type": "code",
   "execution_count": 379,
   "metadata": {},
   "outputs": [
    {
     "data": {
      "text/html": [
       "<div>\n",
       "<style scoped>\n",
       "    .dataframe tbody tr th:only-of-type {\n",
       "        vertical-align: middle;\n",
       "    }\n",
       "\n",
       "    .dataframe tbody tr th {\n",
       "        vertical-align: top;\n",
       "    }\n",
       "\n",
       "    .dataframe thead th {\n",
       "        text-align: right;\n",
       "    }\n",
       "</style>\n",
       "<table border=\"1\" class=\"dataframe\">\n",
       "  <thead>\n",
       "    <tr style=\"text-align: right;\">\n",
       "      <th></th>\n",
       "      <th>Date</th>\n",
       "      <th>Time (Local)</th>\n",
       "      <th>EYEBALLS</th>\n",
       "      <th>ZEROES</th>\n",
       "      <th>COMPLETED TRIPS</th>\n",
       "      <th>REQUESTS</th>\n",
       "      <th>UNIQUE DRIVERS</th>\n",
       "    </tr>\n",
       "  </thead>\n",
       "  <tbody>\n",
       "    <tr>\n",
       "      <th>0</th>\n",
       "      <td>01-Feb-11</td>\n",
       "      <td>7</td>\n",
       "      <td>94</td>\n",
       "      <td>31</td>\n",
       "      <td>65</td>\n",
       "      <td>40</td>\n",
       "      <td>4</td>\n",
       "    </tr>\n",
       "    <tr>\n",
       "      <th>1</th>\n",
       "      <td>01-Feb-11</td>\n",
       "      <td>8</td>\n",
       "      <td>88</td>\n",
       "      <td>20</td>\n",
       "      <td>37</td>\n",
       "      <td>27</td>\n",
       "      <td>3</td>\n",
       "    </tr>\n",
       "    <tr>\n",
       "      <th>2</th>\n",
       "      <td>01-Feb-11</td>\n",
       "      <td>9</td>\n",
       "      <td>72</td>\n",
       "      <td>25</td>\n",
       "      <td>24</td>\n",
       "      <td>52</td>\n",
       "      <td>18</td>\n",
       "    </tr>\n",
       "    <tr>\n",
       "      <th>3</th>\n",
       "      <td>01-Feb-11</td>\n",
       "      <td>10</td>\n",
       "      <td>83</td>\n",
       "      <td>38</td>\n",
       "      <td>1</td>\n",
       "      <td>24</td>\n",
       "      <td>6</td>\n",
       "    </tr>\n",
       "    <tr>\n",
       "      <th>4</th>\n",
       "      <td>01-Feb-11</td>\n",
       "      <td>11</td>\n",
       "      <td>32</td>\n",
       "      <td>17</td>\n",
       "      <td>34</td>\n",
       "      <td>41</td>\n",
       "      <td>3</td>\n",
       "    </tr>\n",
       "  </tbody>\n",
       "</table>\n",
       "</div>"
      ],
      "text/plain": [
       "        Date  Time (Local)   EYEBALLS   ZEROES  COMPLETED TRIPS  REQUESTS   \n",
       "0  01-Feb-11              7         94      31               65        40  \\\n",
       "1  01-Feb-11              8         88      20               37        27   \n",
       "2  01-Feb-11              9         72      25               24        52   \n",
       "3  01-Feb-11             10         83      38                1        24   \n",
       "4  01-Feb-11             11         32      17               34        41   \n",
       "\n",
       "   UNIQUE DRIVERS   \n",
       "0                4  \n",
       "1                3  \n",
       "2               18  \n",
       "3                6  \n",
       "4                3  "
      ]
     },
     "execution_count": 379,
     "metadata": {},
     "output_type": "execute_result"
    }
   ],
   "source": [
    "p1_df = pd.read_csv(r'C:\\Users\\user\\OneDrive\\Máy tính\\Personal Project\\Uber\\Test1_CSV1.csv')\n",
    "p1_df.head()"
   ]
  },
  {
   "cell_type": "code",
   "execution_count": 380,
   "metadata": {},
   "outputs": [
    {
     "name": "stdout",
     "output_type": "stream",
     "text": [
      "<class 'pandas.core.frame.DataFrame'>\n",
      "RangeIndex: 336 entries, 0 to 335\n",
      "Data columns (total 7 columns):\n",
      " #   Column           Non-Null Count  Dtype \n",
      "---  ------           --------------  ----- \n",
      " 0   Date             336 non-null    object\n",
      " 1   Time (Local)     336 non-null    int64 \n",
      " 2   EYEBALLS         336 non-null    int64 \n",
      " 3   ZEROES           336 non-null    int64 \n",
      " 4   COMPLETED TRIPS  336 non-null    int64 \n",
      " 5   REQUESTS         336 non-null    int64 \n",
      " 6   UNIQUE DRIVERS   336 non-null    int64 \n",
      "dtypes: int64(6), object(1)\n",
      "memory usage: 18.5+ KB\n"
     ]
    }
   ],
   "source": [
    "p1_df.info()"
   ]
  },
  {
   "cell_type": "code",
   "execution_count": 381,
   "metadata": {},
   "outputs": [
    {
     "data": {
      "text/html": [
       "<div>\n",
       "<style scoped>\n",
       "    .dataframe tbody tr th:only-of-type {\n",
       "        vertical-align: middle;\n",
       "    }\n",
       "\n",
       "    .dataframe tbody tr th {\n",
       "        vertical-align: top;\n",
       "    }\n",
       "\n",
       "    .dataframe thead th {\n",
       "        text-align: right;\n",
       "    }\n",
       "</style>\n",
       "<table border=\"1\" class=\"dataframe\">\n",
       "  <thead>\n",
       "    <tr style=\"text-align: right;\">\n",
       "      <th></th>\n",
       "      <th>Time (Local)</th>\n",
       "      <th>EYEBALLS</th>\n",
       "      <th>ZEROES</th>\n",
       "      <th>COMPLETED TRIPS</th>\n",
       "      <th>REQUESTS</th>\n",
       "      <th>UNIQUE DRIVERS</th>\n",
       "    </tr>\n",
       "  </thead>\n",
       "  <tbody>\n",
       "    <tr>\n",
       "      <th>count</th>\n",
       "      <td>336.00000</td>\n",
       "      <td>336.000000</td>\n",
       "      <td>336.000000</td>\n",
       "      <td>336.000000</td>\n",
       "      <td>336.000000</td>\n",
       "      <td>336.000000</td>\n",
       "    </tr>\n",
       "    <tr>\n",
       "      <th>mean</th>\n",
       "      <td>11.50000</td>\n",
       "      <td>51.041667</td>\n",
       "      <td>18.785714</td>\n",
       "      <td>32.294643</td>\n",
       "      <td>36.392857</td>\n",
       "      <td>15.568452</td>\n",
       "    </tr>\n",
       "    <tr>\n",
       "      <th>std</th>\n",
       "      <td>6.93251</td>\n",
       "      <td>29.606243</td>\n",
       "      <td>11.414127</td>\n",
       "      <td>20.100184</td>\n",
       "      <td>21.474187</td>\n",
       "      <td>9.400290</td>\n",
       "    </tr>\n",
       "    <tr>\n",
       "      <th>min</th>\n",
       "      <td>0.00000</td>\n",
       "      <td>1.000000</td>\n",
       "      <td>0.000000</td>\n",
       "      <td>0.000000</td>\n",
       "      <td>0.000000</td>\n",
       "      <td>0.000000</td>\n",
       "    </tr>\n",
       "    <tr>\n",
       "      <th>25%</th>\n",
       "      <td>5.75000</td>\n",
       "      <td>23.000000</td>\n",
       "      <td>8.750000</td>\n",
       "      <td>14.750000</td>\n",
       "      <td>17.000000</td>\n",
       "      <td>7.000000</td>\n",
       "    </tr>\n",
       "    <tr>\n",
       "      <th>50%</th>\n",
       "      <td>11.50000</td>\n",
       "      <td>53.000000</td>\n",
       "      <td>19.000000</td>\n",
       "      <td>31.000000</td>\n",
       "      <td>38.000000</td>\n",
       "      <td>15.000000</td>\n",
       "    </tr>\n",
       "    <tr>\n",
       "      <th>75%</th>\n",
       "      <td>17.25000</td>\n",
       "      <td>76.000000</td>\n",
       "      <td>28.000000</td>\n",
       "      <td>49.000000</td>\n",
       "      <td>54.250000</td>\n",
       "      <td>23.250000</td>\n",
       "    </tr>\n",
       "    <tr>\n",
       "      <th>max</th>\n",
       "      <td>23.00000</td>\n",
       "      <td>101.000000</td>\n",
       "      <td>40.000000</td>\n",
       "      <td>69.000000</td>\n",
       "      <td>73.000000</td>\n",
       "      <td>31.000000</td>\n",
       "    </tr>\n",
       "  </tbody>\n",
       "</table>\n",
       "</div>"
      ],
      "text/plain": [
       "       Time (Local)    EYEBALLS       ZEROES  COMPLETED TRIPS    REQUESTS   \n",
       "count      336.00000  336.000000  336.000000       336.000000  336.000000  \\\n",
       "mean        11.50000   51.041667   18.785714        32.294643   36.392857   \n",
       "std          6.93251   29.606243   11.414127        20.100184   21.474187   \n",
       "min          0.00000    1.000000    0.000000         0.000000    0.000000   \n",
       "25%          5.75000   23.000000    8.750000        14.750000   17.000000   \n",
       "50%         11.50000   53.000000   19.000000        31.000000   38.000000   \n",
       "75%         17.25000   76.000000   28.000000        49.000000   54.250000   \n",
       "max         23.00000  101.000000   40.000000        69.000000   73.000000   \n",
       "\n",
       "       UNIQUE DRIVERS   \n",
       "count       336.000000  \n",
       "mean         15.568452  \n",
       "std           9.400290  \n",
       "min           0.000000  \n",
       "25%           7.000000  \n",
       "50%          15.000000  \n",
       "75%          23.250000  \n",
       "max          31.000000  "
      ]
     },
     "execution_count": 381,
     "metadata": {},
     "output_type": "execute_result"
    }
   ],
   "source": [
    "p1_df.describe()"
   ]
  },
  {
   "cell_type": "code",
   "execution_count": 382,
   "metadata": {},
   "outputs": [
    {
     "data": {
      "text/plain": [
       "(336, 7)"
      ]
     },
     "execution_count": 382,
     "metadata": {},
     "output_type": "execute_result"
    }
   ],
   "source": [
    "p1_df.shape"
   ]
  },
  {
   "cell_type": "code",
   "execution_count": 383,
   "metadata": {},
   "outputs": [
    {
     "data": {
      "text/plain": [
       "Date               0\n",
       "Time (Local)       0\n",
       "EYEBALLS           0\n",
       "ZEROES             0\n",
       "COMPLETED TRIPS    0\n",
       "REQUESTS           0\n",
       "UNIQUE DRIVERS     0\n",
       "dtype: int64"
      ]
     },
     "execution_count": 383,
     "metadata": {},
     "output_type": "execute_result"
    }
   ],
   "source": [
    "# checking missing values\n",
    "p1_df.isna().sum()"
   ]
  },
  {
   "cell_type": "code",
   "execution_count": 384,
   "metadata": {},
   "outputs": [
    {
     "data": {
      "text/plain": [
       "0"
      ]
     },
     "execution_count": 384,
     "metadata": {},
     "output_type": "execute_result"
    }
   ],
   "source": [
    "# checking duplicated values\n",
    "p1_df.duplicated().sum()"
   ]
  },
  {
   "cell_type": "code",
   "execution_count": 385,
   "metadata": {},
   "outputs": [],
   "source": [
    "# Convert 'Date' column to datetime\n",
    "from datetime import datetime\n",
    "p1_df['Date'] = pd.to_datetime(p1_df['Date'], format='%d-%b-%y')"
   ]
  },
  {
   "cell_type": "code",
   "execution_count": 386,
   "metadata": {},
   "outputs": [
    {
     "data": {
      "image/png": "[encoded data removed]",
      "text/plain": [
       "<Figure size 640x480 with 1 Axes>"
      ]
     },
     "metadata": {},
     "output_type": "display_data"
    },
    {
     "data": {
      "image/png": "[encoded data removed]",
      "text/plain": [
       "<Figure size 640x480 with 1 Axes>"
      ]
     },
     "metadata": {},
     "output_type": "display_data"
    },
    {
     "data": {
      "image/png": "[encoded data removed]",
      "text/plain": [
       "<Figure size 640x480 with 1 Axes>"
      ]
     },
     "metadata": {},
     "output_type": "display_data"
    },
    {
     "data": {
      "image/png": "[encoded data removed]",
      "text/plain": [
       "<Figure size 640x480 with 1 Axes>"
      ]
     },
     "metadata": {},
     "output_type": "display_data"
    },
    {
     "data": {
      "image/png": "[encoded data removed]",
      "text/plain": [
       "<Figure size 640x480 with 1 Axes>"
      ]
     },
     "metadata": {},
     "output_type": "display_data"
    }
   ],
   "source": [
    "# Exploratory Data Analysis\n",
    "cols = p1_df.columns.to_list()[2:]\n",
    "a = p1_df.groupby('Date')[cols].sum().reset_index()\n",
    "a['Day'] = a['Date'].dt.day\n",
    "for col in cols:\n",
    "    fig, ax = plt.subplots()\n",
    "    bars = ax.bar(a['Day'], a[col])\n",
    "    for bar in bars:\n",
    "        yval = bar.get_height()\n",
    "        ax.text(x=bar.get_x()+bar.get_width()/2.0, y=yval+5, s=int(yval), ha='center', fontsize=8)\n",
    "    ax.set_xticks(range(1,len(a['Day'])+1)) #Add all values in x-axis\n",
    "    ax.set_xlabel('Day')\n",
    "    ax.set_ylabel('Count')\n",
    "    ax.set_title(f'{col} Distribution')"
   ]
  },
  {
   "cell_type": "markdown",
   "metadata": {},
   "source": [
    "Now that, we have loaded the dataset into a dataframe, we can start answering all questions in Part 1"
   ]
  },
  {
   "cell_type": "markdown",
   "metadata": {},
   "source": [
    "Q1. Name the 72 hour period with the highest amount of zeroes?"
   ]
  },
  {
   "cell_type": "code",
   "execution_count": 387,
   "metadata": {},
   "outputs": [
    {
     "data": {
      "text/html": [
       "<div>\n",
       "<style scoped>\n",
       "    .dataframe tbody tr th:only-of-type {\n",
       "        vertical-align: middle;\n",
       "    }\n",
       "\n",
       "    .dataframe tbody tr th {\n",
       "        vertical-align: top;\n",
       "    }\n",
       "\n",
       "    .dataframe thead th {\n",
       "        text-align: right;\n",
       "    }\n",
       "</style>\n",
       "<table border=\"1\" class=\"dataframe\">\n",
       "  <thead>\n",
       "    <tr style=\"text-align: right;\">\n",
       "      <th></th>\n",
       "      <th>Date</th>\n",
       "      <th>ZEROES</th>\n",
       "      <th>zeros_by_72hour</th>\n",
       "    </tr>\n",
       "  </thead>\n",
       "  <tbody>\n",
       "    <tr>\n",
       "      <th>5</th>\n",
       "      <td>2011-02-06</td>\n",
       "      <td>465</td>\n",
       "      <td>1529.0</td>\n",
       "    </tr>\n",
       "  </tbody>\n",
       "</table>\n",
       "</div>"
      ],
      "text/plain": [
       "        Date  ZEROES  zeros_by_72hour\n",
       "5 2011-02-06     465           1529.0"
      ]
     },
     "execution_count": 387,
     "metadata": {},
     "output_type": "execute_result"
    }
   ],
   "source": [
    "# Answer Q1\n",
    "\n",
    "# group p1_df by date and then calculate sum of zeros\n",
    "zeros_by_date = p1_df.groupby('Date')['ZEROES'].sum().reset_index()\n",
    "\n",
    "# calculate sum of zeros by 72 hour period\n",
    "zeros_by_date['zeros_by_72hour'] = zeros_by_date['ZEROES'].rolling(window=3).sum()\n",
    "\n",
    "# find the row that have a max value in zeros_by_72hour column\n",
    "max_row = zeros_by_date.sort_values(by='zeros_by_72hour', ascending=False).head(n=1)\n",
    "max_row"
   ]
  },
  {
   "cell_type": "markdown",
   "metadata": {},
   "source": [
    "=> Ans Q1: The period from February 4 to 6 has the highest number of zeros."
   ]
  },
  {
   "cell_type": "markdown",
   "metadata": {},
   "source": [
    "Q2. Between the 1st and 5th of February, which dates has the most completed trips?"
   ]
  },
  {
   "cell_type": "code",
   "execution_count": 388,
   "metadata": {},
   "outputs": [
    {
     "data": {
      "text/plain": [
       "Index(['Date', 'Time (Local) ', 'EYEBALLS ', 'ZEROES', 'COMPLETED TRIPS',\n",
       "       'REQUESTS', 'UNIQUE DRIVERS '],\n",
       "      dtype='object')"
      ]
     },
     "execution_count": 388,
     "metadata": {},
     "output_type": "execute_result"
    }
   ],
   "source": [
    "p1_df.columns"
   ]
  },
  {
   "cell_type": "code",
   "execution_count": 389,
   "metadata": {},
   "outputs": [
    {
     "data": {
      "text/html": [
       "<div>\n",
       "<style scoped>\n",
       "    .dataframe tbody tr th:only-of-type {\n",
       "        vertical-align: middle;\n",
       "    }\n",
       "\n",
       "    .dataframe tbody tr th {\n",
       "        vertical-align: top;\n",
       "    }\n",
       "\n",
       "    .dataframe thead th {\n",
       "        text-align: right;\n",
       "    }\n",
       "</style>\n",
       "<table border=\"1\" class=\"dataframe\">\n",
       "  <thead>\n",
       "    <tr style=\"text-align: right;\">\n",
       "      <th></th>\n",
       "      <th>Date</th>\n",
       "      <th>COMPLETED TRIPS</th>\n",
       "    </tr>\n",
       "  </thead>\n",
       "  <tbody>\n",
       "    <tr>\n",
       "      <th>2</th>\n",
       "      <td>2011-02-03</td>\n",
       "      <td>870</td>\n",
       "    </tr>\n",
       "  </tbody>\n",
       "</table>\n",
       "</div>"
      ],
      "text/plain": [
       "        Date  COMPLETED TRIPS\n",
       "2 2011-02-03              870"
      ]
     },
     "execution_count": 389,
     "metadata": {},
     "output_type": "execute_result"
    }
   ],
   "source": [
    "# Answer Q2\n",
    "\n",
    "# group p1_df by date and calculate sum of COMPLETED TRIPS\n",
    "completedTrip_by_date = p1_df.groupby('Date')['COMPLETED TRIPS'].sum().reset_index().head(n=5)\n",
    "\n",
    "# Date has the most completed trips\n",
    "mostCompletedTrips = completedTrip_by_date.sort_values(by='COMPLETED TRIPS', ascending=False).head(n=1)\n",
    "mostCompletedTrips"
   ]
  },
  {
   "cell_type": "markdown",
   "metadata": {},
   "source": [
    "=> Ans Q2: Between the 1st and 5th of February, February 3rd has the most completed trips"
   ]
  },
  {
   "cell_type": "markdown",
   "metadata": {},
   "source": [
    "Q3. What hour of the day had the most completed trips on February 11?"
   ]
  },
  {
   "cell_type": "code",
   "execution_count": 390,
   "metadata": {},
   "outputs": [
    {
     "data": {
      "text/html": [
       "<div>\n",
       "<style scoped>\n",
       "    .dataframe tbody tr th:only-of-type {\n",
       "        vertical-align: middle;\n",
       "    }\n",
       "\n",
       "    .dataframe tbody tr th {\n",
       "        vertical-align: top;\n",
       "    }\n",
       "\n",
       "    .dataframe thead th {\n",
       "        text-align: right;\n",
       "    }\n",
       "</style>\n",
       "<table border=\"1\" class=\"dataframe\">\n",
       "  <thead>\n",
       "    <tr style=\"text-align: right;\">\n",
       "      <th></th>\n",
       "      <th>Time (Local)</th>\n",
       "      <th>COMPLETED TRIPS</th>\n",
       "    </tr>\n",
       "  </thead>\n",
       "  <tbody>\n",
       "    <tr>\n",
       "      <th>15</th>\n",
       "      <td>15</td>\n",
       "      <td>69</td>\n",
       "    </tr>\n",
       "  </tbody>\n",
       "</table>\n",
       "</div>"
      ],
      "text/plain": [
       "    Time (Local)   COMPLETED TRIPS\n",
       "15             15               69"
      ]
     },
     "execution_count": 390,
     "metadata": {},
     "output_type": "execute_result"
    }
   ],
   "source": [
    "# Answer Q3\n",
    "\n",
    "# select rows of February 11\n",
    "feb11 = p1_df.loc[p1_df['Date']=='2011-02-11', ['Time (Local) ', 'COMPLETED TRIPS']].reset_index(drop=True)\n",
    "\n",
    "# find the hour of the day had the most COMPLETED TRIPS\n",
    "hourOfDay = feb11.sort_values(by='COMPLETED TRIPS', ascending=False).head(n=1)\n",
    "hourOfDay"
   ]
  },
  {
   "cell_type": "markdown",
   "metadata": {},
   "source": [
    "=> Ans Q3: On Feb 11, 15:00 had the most completed trips"
   ]
  },
  {
   "cell_type": "markdown",
   "metadata": {},
   "source": [
    "Q4. What hour of the day from the 15 day period in February had the last number of requests?"
   ]
  },
  {
   "cell_type": "code",
   "execution_count": 391,
   "metadata": {},
   "outputs": [
    {
     "data": {
      "text/html": [
       "<div>\n",
       "<style scoped>\n",
       "    .dataframe tbody tr th:only-of-type {\n",
       "        vertical-align: middle;\n",
       "    }\n",
       "\n",
       "    .dataframe tbody tr th {\n",
       "        vertical-align: top;\n",
       "    }\n",
       "\n",
       "    .dataframe thead th {\n",
       "        text-align: right;\n",
       "    }\n",
       "</style>\n",
       "<table border=\"1\" class=\"dataframe\">\n",
       "  <thead>\n",
       "    <tr style=\"text-align: right;\">\n",
       "      <th></th>\n",
       "      <th>Time (Local)</th>\n",
       "      <th>REQUESTS</th>\n",
       "    </tr>\n",
       "  </thead>\n",
       "  <tbody>\n",
       "    <tr>\n",
       "      <th>1</th>\n",
       "      <td>1</td>\n",
       "      <td>396</td>\n",
       "    </tr>\n",
       "  </tbody>\n",
       "</table>\n",
       "</div>"
      ],
      "text/plain": [
       "   Time (Local)   REQUESTS\n",
       "1              1       396"
      ]
     },
     "execution_count": 391,
     "metadata": {},
     "output_type": "execute_result"
    }
   ],
   "source": [
    "# Answer Q4\n",
    "\n",
    "# group p1_df by Time (Local) and calculate sum of requests\n",
    "requestsByHour = p1_df.groupby('Time (Local) ')['REQUESTS'].sum().reset_index()\n",
    "\n",
    "# find the hour of the day had the last number of requests\n",
    "hourOfDay = requestsByHour.sort_values(by='REQUESTS', ascending=True).head(n=1)\n",
    "hourOfDay"
   ]
  },
  {
   "cell_type": "markdown",
   "metadata": {},
   "source": [
    "=> Ans Q4: From 01:00 to 02:00 from the 15 days period in February had the last number of requests"
   ]
  },
  {
   "cell_type": "markdown",
   "metadata": {},
   "source": [
    "Q5. What is percentage of all the eyeballs that ocurred on Friday?"
   ]
  },
  {
   "cell_type": "code",
   "execution_count": 392,
   "metadata": {},
   "outputs": [
    {
     "name": "stdout",
     "output_type": "stream",
     "text": [
      "The percentage is 15.0 %\n"
     ]
    }
   ],
   "source": [
    "# Answer Q5\n",
    "\n",
    "# find the day of the week corresponding to the date data in 'Date' column\n",
    "p1_df['Weekday'] = p1_df['Date'].dt.day_name()\n",
    "\n",
    "# find the sum of all 'EYEBALLS' that occurred on Weekday\n",
    "sumEyeballsOnWeekday = p1_df.groupby('Weekday')['EYEBALLS '].sum().reset_index()\n",
    "\n",
    "# find the percentage of all 'Eyeballs' that\n",
    "totalEyeballs = sumEyeballsOnWeekday['EYEBALLS '].sum()\n",
    "totalEyeballsByFriday = sumEyeballsOnWeekday.loc[sumEyeballsOnWeekday['Weekday']=='Friday', 'EYEBALLS '].values[0]\n",
    "pct = round(totalEyeballsByFriday/totalEyeballs,2)*100\n",
    "print(f'The percentage is {pct} %')"
   ]
  },
  {
   "cell_type": "markdown",
   "metadata": {},
   "source": [
    "=> Ans Q5: The percentage of all the eyeballs that ocurred on Friday is 15%"
   ]
  },
  {
   "cell_type": "markdown",
   "metadata": {},
   "source": [
    "Q6. What is the weighted average of requests per driver for the 15 day data set?"
   ]
  },
  {
   "cell_type": "code",
   "execution_count": 393,
   "metadata": {},
   "outputs": [
    {
     "name": "stdout",
     "output_type": "stream",
     "text": [
      "The weighted average of requests per driver for the 15 day data set is 2.41\n"
     ]
    }
   ],
   "source": [
    "# Answer Q6\n",
    "\n",
    "# Calculate weight by 'requests'\n",
    "p1_df['weight'] = p1_df['REQUESTS'] / p1_df['REQUESTS'].sum()\n",
    "\n",
    "#p1_df['Ratio_REQ_UniDri'] = p1_df.apply(lambda row: row['REQUESTS'] / row['UNIQUE DRIVERS '] if row['UNIQUE DRIVERS '] != 0 else 0, axis=1)\n",
    "\n",
    "# grouping by Date to calculate weight average\n",
    "avgByDate = p1_df.groupby(['Date'])[['REQUESTS','UNIQUE DRIVERS ', 'weight']].sum().reset_index()\n",
    "avgByDate['ratio'] = avgByDate['REQUESTS'] / avgByDate['UNIQUE DRIVERS ']\n",
    "ratio = round(avgByDate['weight'].multiply(avgByDate['ratio']).sum(),2)\n",
    "print(f'The weighted average of requests per driver for the 15 day data set is {ratio}')"
   ]
  },
  {
   "cell_type": "markdown",
   "metadata": {},
   "source": [
    "=> Ans Q6: The weighted average ratio of requests per driver is 2.41"
   ]
  },
  {
   "cell_type": "markdown",
   "metadata": {},
   "source": [
    "Q7. Driver's schedules area drafted in 4 hour shifts, and Uber wants to change this to 8 hour shifts. Calculate which shift has the highest requests for the 15 day data set."
   ]
  },
  {
   "cell_type": "code",
   "execution_count": 394,
   "metadata": {},
   "outputs": [
    {
     "data": {
      "text/html": [
       "<div>\n",
       "<style scoped>\n",
       "    .dataframe tbody tr th:only-of-type {\n",
       "        vertical-align: middle;\n",
       "    }\n",
       "\n",
       "    .dataframe tbody tr th {\n",
       "        vertical-align: top;\n",
       "    }\n",
       "\n",
       "    .dataframe thead th {\n",
       "        text-align: right;\n",
       "    }\n",
       "</style>\n",
       "<table border=\"1\" class=\"dataframe\">\n",
       "  <thead>\n",
       "    <tr style=\"text-align: right;\">\n",
       "      <th></th>\n",
       "      <th>Shift</th>\n",
       "      <th>REQUESTS</th>\n",
       "    </tr>\n",
       "  </thead>\n",
       "  <tbody>\n",
       "    <tr>\n",
       "      <th>1</th>\n",
       "      <td>Shift 2</td>\n",
       "      <td>4176</td>\n",
       "    </tr>\n",
       "  </tbody>\n",
       "</table>\n",
       "</div>"
      ],
      "text/plain": [
       "     Shift  REQUESTS\n",
       "1  Shift 2      4176"
      ]
     },
     "execution_count": 394,
     "metadata": {},
     "output_type": "execute_result"
    }
   ],
   "source": [
    "# Answer Q7\n",
    "\n",
    "# group p1_df by Time(Local) and calculate sum of requests\n",
    "request_by_hour = p1_df.groupby('Time (Local) ')['REQUESTS'].sum().reset_index()\n",
    "\n",
    "# seperate time to shifts\n",
    "labels = ['Shift 1', 'Shift 2', 'Shift 3']\n",
    "bins = [-1,7,15,23]\n",
    "request_by_hour['Shift'] = pd.cut(request_by_hour['Time (Local) '], bins=bins, labels=labels)\n",
    "\n",
    "# find the shift that has the highest requests\n",
    "requests_by_shift = request_by_hour.groupby('Shift')['REQUESTS'].sum().reset_index().sort_values(by='REQUESTS', ascending=False).head(n=1)\n",
    "requests_by_shift"
   ]
  },
  {
   "cell_type": "markdown",
   "metadata": {},
   "source": [
    "=> Ans Q7: Shift 2 from 8:00 to 15:00 has the highest requests for the 15 day data set."
   ]
  },
  {
   "cell_type": "markdown",
   "metadata": {},
   "source": [
    "Q8. When the number of unique drivers increases so does the number of eyeballs?"
   ]
  },
  {
   "cell_type": "code",
   "execution_count": 395,
   "metadata": {},
   "outputs": [
    {
     "data": {
      "text/plain": [
       "<Axes: >"
      ]
     },
     "execution_count": 395,
     "metadata": {},
     "output_type": "execute_result"
    },
    {
     "data": {
      "image/png": "[encoded data removed]",
      "text/plain": [
       "<Figure size 640x480 with 2 Axes>"
      ]
     },
     "metadata": {},
     "output_type": "display_data"
    }
   ],
   "source": [
    "# Answer Q8\n",
    "\n",
    "# Plot heatmap to determine relationship between 'unique drivers' and 'eyeballs'\n",
    "subset_df = p1_df[['UNIQUE DRIVERS ', 'EYEBALLS ']]\n",
    "\n",
    "# Calculate correlation between 'unique drivers' and 'eyeballs'\n",
    "corr = subset_df.corr()\n",
    "sns.heatmap(corr, xticklabels=corr.columns.values, yticklabels=corr.columns.values, annot = True, annot_kws={'size':10})"
   ]
  },
  {
   "cell_type": "markdown",
   "metadata": {},
   "source": [
    "=> Ans Q8: There is no linear relationship between 'unique drivers' and 'eyeballs', so it's FALSE"
   ]
  },
  {
   "cell_type": "markdown",
   "metadata": {},
   "source": [
    "Q9. On which day of the ratio the highest for the number of completed trips to requests?"
   ]
  },
  {
   "cell_type": "code",
   "execution_count": 396,
   "metadata": {},
   "outputs": [
    {
     "data": {
      "text/html": [
       "<div>\n",
       "<style scoped>\n",
       "    .dataframe tbody tr th:only-of-type {\n",
       "        vertical-align: middle;\n",
       "    }\n",
       "\n",
       "    .dataframe tbody tr th {\n",
       "        vertical-align: top;\n",
       "    }\n",
       "\n",
       "    .dataframe thead th {\n",
       "        text-align: right;\n",
       "    }\n",
       "</style>\n",
       "<table border=\"1\" class=\"dataframe\">\n",
       "  <thead>\n",
       "    <tr style=\"text-align: right;\">\n",
       "      <th></th>\n",
       "      <th>Date</th>\n",
       "      <th>REQUESTS</th>\n",
       "      <th>COMPLETED TRIPS</th>\n",
       "      <th>Ratio_comp_req</th>\n",
       "    </tr>\n",
       "  </thead>\n",
       "  <tbody>\n",
       "    <tr>\n",
       "      <th>14</th>\n",
       "      <td>2011-02-15</td>\n",
       "      <td>196</td>\n",
       "      <td>239</td>\n",
       "      <td>1.219388</td>\n",
       "    </tr>\n",
       "  </tbody>\n",
       "</table>\n",
       "</div>"
      ],
      "text/plain": [
       "         Date  REQUESTS  COMPLETED TRIPS  Ratio_comp_req\n",
       "14 2011-02-15       196              239        1.219388"
      ]
     },
     "execution_count": 396,
     "metadata": {},
     "output_type": "execute_result"
    }
   ],
   "source": [
    "# Answer Q9\n",
    "\n",
    "# group p1_df by date and calculate ratio between completed trips to requests\n",
    "comp_req_by_date = p1_df.groupby('Date')[['REQUESTS', 'COMPLETED TRIPS']].sum().reset_index()\n",
    "comp_req_by_date['Ratio_comp_req'] = comp_req_by_date['COMPLETED TRIPS'] / comp_req_by_date['REQUESTS']\n",
    "comp_req_by_date.sort_values(by='Ratio_comp_req', ascending=False).head(n=1)"
   ]
  },
  {
   "cell_type": "markdown",
   "metadata": {},
   "source": [
    "=> Ans Q9: February 15 has the highest ratio between completed trips and requests"
   ]
  },
  {
   "cell_type": "markdown",
   "metadata": {},
   "source": [
    "Q10. If you have 10 drivers to add ton one hour throughout the 15 data set, which hour would you add them to?"
   ]
  },
  {
   "cell_type": "code",
   "execution_count": 397,
   "metadata": {},
   "outputs": [
    {
     "data": {
      "text/html": [
       "<div>\n",
       "<style scoped>\n",
       "    .dataframe tbody tr th:only-of-type {\n",
       "        vertical-align: middle;\n",
       "    }\n",
       "\n",
       "    .dataframe tbody tr th {\n",
       "        vertical-align: top;\n",
       "    }\n",
       "\n",
       "    .dataframe thead th {\n",
       "        text-align: right;\n",
       "    }\n",
       "</style>\n",
       "<table border=\"1\" class=\"dataframe\">\n",
       "  <thead>\n",
       "    <tr style=\"text-align: right;\">\n",
       "      <th></th>\n",
       "      <th>Time (Local)</th>\n",
       "      <th>EYEBALLS</th>\n",
       "      <th>UNIQUE DRIVERS</th>\n",
       "      <th>eyeballs_per_unidriver</th>\n",
       "    </tr>\n",
       "  </thead>\n",
       "  <tbody>\n",
       "    <tr>\n",
       "      <th>23</th>\n",
       "      <td>23</td>\n",
       "      <td>814</td>\n",
       "      <td>163</td>\n",
       "      <td>4.993865</td>\n",
       "    </tr>\n",
       "  </tbody>\n",
       "</table>\n",
       "</div>"
      ],
      "text/plain": [
       "    Time (Local)   EYEBALLS   UNIQUE DRIVERS   eyeballs_per_unidriver\n",
       "23             23        814              163                4.993865"
      ]
     },
     "execution_count": 397,
     "metadata": {},
     "output_type": "execute_result"
    }
   ],
   "source": [
    "# Answer Q10\n",
    "\n",
    "# group p1_df by Time (Local) and calculate sum of unique drivers and eyeballs\n",
    "uindriver_by_time = p1_df.groupby('Time (Local) ')[['EYEBALLS ','UNIQUE DRIVERS ']].sum().reset_index()\n",
    "uindriver_by_time['eyeballs_per_unidriver'] = uindriver_by_time['EYEBALLS '] / uindriver_by_time['UNIQUE DRIVERS ']\n",
    "uindriver_by_time.sort_values(by='eyeballs_per_unidriver', ascending=False).head(n=1)"
   ]
  },
  {
   "cell_type": "markdown",
   "metadata": {},
   "source": [
    "=> Ans Q10: Due to 23:00 has the smallest ratio eyeballs per unique driver, additional drivers will be added during this period."
   ]
  },
  {
   "cell_type": "markdown",
   "metadata": {},
   "source": [
    "Q11. How many hours of data are in this data set?"
   ]
  },
  {
   "cell_type": "code",
   "execution_count": 398,
   "metadata": {},
   "outputs": [
    {
     "data": {
      "text/plain": [
       "336"
      ]
     },
     "execution_count": 398,
     "metadata": {},
     "output_type": "execute_result"
    }
   ],
   "source": [
    "# Answer Q11\n",
    "numbers_hours = p1_df['Time (Local) '].count()\n",
    "numbers_hours"
   ]
  },
  {
   "cell_type": "markdown",
   "metadata": {},
   "source": [
    "=> Ans Q11: There are 336 hours of data in this dataset"
   ]
  },
  {
   "cell_type": "markdown",
   "metadata": {},
   "source": [
    "Q12. Use the data to determine when the best end-of-day is for drivers."
   ]
  },
  {
   "cell_type": "markdown",
   "metadata": {},
   "source": [
    "One way to approach this question is to calculate the average number of completed trips and unique drivers for each hour of the day over the entire two-week period. We can then look for the hour with the lowest number of completed trips and unique drivers to find the time when supply and demand are at their natural minimums."
   ]
  },
  {
   "cell_type": "code",
   "execution_count": 399,
   "metadata": {},
   "outputs": [
    {
     "data": {
      "text/html": [
       "<div>\n",
       "<style scoped>\n",
       "    .dataframe tbody tr th:only-of-type {\n",
       "        vertical-align: middle;\n",
       "    }\n",
       "\n",
       "    .dataframe tbody tr th {\n",
       "        vertical-align: top;\n",
       "    }\n",
       "\n",
       "    .dataframe thead th {\n",
       "        text-align: right;\n",
       "    }\n",
       "</style>\n",
       "<table border=\"1\" class=\"dataframe\">\n",
       "  <thead>\n",
       "    <tr style=\"text-align: right;\">\n",
       "      <th></th>\n",
       "      <th>Time (Local)</th>\n",
       "      <th>COMPLETED TRIPS</th>\n",
       "      <th>UNIQUE DRIVERS</th>\n",
       "    </tr>\n",
       "  </thead>\n",
       "  <tbody>\n",
       "    <tr>\n",
       "      <th>0</th>\n",
       "      <td>0</td>\n",
       "      <td>25.142857</td>\n",
       "      <td>17.0</td>\n",
       "    </tr>\n",
       "  </tbody>\n",
       "</table>\n",
       "</div>"
      ],
      "text/plain": [
       "   Time (Local)   COMPLETED TRIPS  UNIQUE DRIVERS \n",
       "0              0        25.142857             17.0"
      ]
     },
     "execution_count": 399,
     "metadata": {},
     "output_type": "execute_result"
    }
   ],
   "source": [
    "# Answer Q12\n",
    "\n",
    "# group p1_df by time and calculate mean of completed trips and unique drivers\n",
    "mean_compTrips_unidri_by_hour = p1_df.groupby('Time (Local) ')[['COMPLETED TRIPS', 'UNIQUE DRIVERS ']].mean().reset_index()\n",
    "mean_compTrips_unidri_by_hour.sort_values(by=['COMPLETED TRIPS', 'UNIQUE DRIVERS '], ascending=True).head(n=1)"
   ]
  },
  {
   "cell_type": "markdown",
   "metadata": {},
   "source": [
    "=> Ans Q12: The best end-of-day for drivers is 0:00, which is when supply and demand are at their natural minimums and might make the most sence to consider as the 'end day'"
   ]
  },
  {
   "cell_type": "markdown",
   "metadata": {},
   "source": [
    "Q13. Which was the busiest 4 hour period in the data?"
   ]
  },
  {
   "cell_type": "code",
   "execution_count": 400,
   "metadata": {},
   "outputs": [
    {
     "data": {
      "text/plain": [
       "2"
      ]
     },
     "execution_count": 400,
     "metadata": {},
     "output_type": "execute_result"
    }
   ],
   "source": [
    "# Answer Q13\n",
    "\n",
    "# group p1_df by time (local) and calculate sum of completed trips\n",
    "comptrips_by_hour = p1_df.groupby('Time (Local) ')['COMPLETED TRIPS'].sum().reset_index()\n",
    "comptrips = comptrips_by_hour['COMPLETED TRIPS'].values\n",
    "comptrips14 = comptrips[1:5].sum()\n",
    "comptrips710 = comptrips[7:11].sum()\n",
    "comptrips1215 = comptrips[12:16].sum()\n",
    "comptrips1922 = comptrips[19:23].sum()\n",
    "vals = [comptrips14, comptrips710, comptrips1215, comptrips1922]\n",
    "maxval = max(vals)\n",
    "maxindex = vals.index(maxval)\n",
    "maxindex\n"
   ]
  },
  {
   "cell_type": "markdown",
   "metadata": {},
   "source": [
    "=> Ans Q13: 12:00 to 15:00 is the busiest 4 hour period in the dataset."
   ]
  },
  {
   "cell_type": "markdown",
   "metadata": {},
   "source": [
    "## **Part 2**: Partner Business Modeling"
   ]
  },
  {
   "cell_type": "code",
   "execution_count": 401,
   "metadata": {},
   "outputs": [],
   "source": [
    "p2_df = pd.read_csv(r'C:\\Users\\user\\OneDrive\\Máy tính\\Personal Project\\Uber\\Test1_CSV2.csv')"
   ]
  },
  {
   "cell_type": "code",
   "execution_count": 402,
   "metadata": {},
   "outputs": [
    {
     "data": {
      "text/html": [
       "<div>\n",
       "<style scoped>\n",
       "    .dataframe tbody tr th:only-of-type {\n",
       "        vertical-align: middle;\n",
       "    }\n",
       "\n",
       "    .dataframe tbody tr th {\n",
       "        vertical-align: top;\n",
       "    }\n",
       "\n",
       "    .dataframe thead th {\n",
       "        text-align: right;\n",
       "    }\n",
       "</style>\n",
       "<table border=\"1\" class=\"dataframe\">\n",
       "  <thead>\n",
       "    <tr style=\"text-align: right;\">\n",
       "      <th></th>\n",
       "      <th>Name</th>\n",
       "      <th>TRIPS COMPLETED</th>\n",
       "      <th>ACCEPT RATE (%)</th>\n",
       "      <th>SUPPLY HOURS</th>\n",
       "      <th>RATING</th>\n",
       "    </tr>\n",
       "  </thead>\n",
       "  <tbody>\n",
       "    <tr>\n",
       "      <th>0</th>\n",
       "      <td>UberDriver1</td>\n",
       "      <td>18</td>\n",
       "      <td>83</td>\n",
       "      <td>4</td>\n",
       "      <td>4</td>\n",
       "    </tr>\n",
       "    <tr>\n",
       "      <th>1</th>\n",
       "      <td>UberDriver2</td>\n",
       "      <td>23</td>\n",
       "      <td>95</td>\n",
       "      <td>4</td>\n",
       "      <td>1</td>\n",
       "    </tr>\n",
       "    <tr>\n",
       "      <th>2</th>\n",
       "      <td>UberDriver3</td>\n",
       "      <td>25</td>\n",
       "      <td>90</td>\n",
       "      <td>7</td>\n",
       "      <td>1</td>\n",
       "    </tr>\n",
       "    <tr>\n",
       "      <th>3</th>\n",
       "      <td>UberDriver4</td>\n",
       "      <td>16</td>\n",
       "      <td>75</td>\n",
       "      <td>9</td>\n",
       "      <td>2</td>\n",
       "    </tr>\n",
       "    <tr>\n",
       "      <th>4</th>\n",
       "      <td>UberDriver5</td>\n",
       "      <td>22</td>\n",
       "      <td>74</td>\n",
       "      <td>2</td>\n",
       "      <td>3</td>\n",
       "    </tr>\n",
       "  </tbody>\n",
       "</table>\n",
       "</div>"
      ],
      "text/plain": [
       "          Name  TRIPS COMPLETED   ACCEPT RATE (%)  SUPPLY HOURS  RATING\n",
       "0  UberDriver1                18               83             4       4\n",
       "1  UberDriver2                23               95             4       1\n",
       "2  UberDriver3                25               90             7       1\n",
       "3  UberDriver4                16               75             9       2\n",
       "4  UberDriver5                22               74             2       3"
      ]
     },
     "execution_count": 402,
     "metadata": {},
     "output_type": "execute_result"
    }
   ],
   "source": [
    "p2_df.head()"
   ]
  },
  {
   "cell_type": "code",
   "execution_count": 403,
   "metadata": {},
   "outputs": [
    {
     "name": "stdout",
     "output_type": "stream",
     "text": [
      "<class 'pandas.core.frame.DataFrame'>\n",
      "RangeIndex: 119 entries, 0 to 118\n",
      "Data columns (total 5 columns):\n",
      " #   Column            Non-Null Count  Dtype \n",
      "---  ------            --------------  ----- \n",
      " 0   Name              119 non-null    object\n",
      " 1   TRIPS COMPLETED   119 non-null    int64 \n",
      " 2   ACCEPT RATE (%)   119 non-null    int64 \n",
      " 3   SUPPLY HOURS      119 non-null    int64 \n",
      " 4   RATING            119 non-null    int64 \n",
      "dtypes: int64(4), object(1)\n",
      "memory usage: 4.8+ KB\n"
     ]
    }
   ],
   "source": [
    "p2_df.info()"
   ]
  },
  {
   "cell_type": "code",
   "execution_count": 404,
   "metadata": {},
   "outputs": [
    {
     "data": {
      "text/html": [
       "<div>\n",
       "<style scoped>\n",
       "    .dataframe tbody tr th:only-of-type {\n",
       "        vertical-align: middle;\n",
       "    }\n",
       "\n",
       "    .dataframe tbody tr th {\n",
       "        vertical-align: top;\n",
       "    }\n",
       "\n",
       "    .dataframe thead th {\n",
       "        text-align: right;\n",
       "    }\n",
       "</style>\n",
       "<table border=\"1\" class=\"dataframe\">\n",
       "  <thead>\n",
       "    <tr style=\"text-align: right;\">\n",
       "      <th></th>\n",
       "      <th>TRIPS COMPLETED</th>\n",
       "      <th>ACCEPT RATE (%)</th>\n",
       "      <th>SUPPLY HOURS</th>\n",
       "      <th>RATING</th>\n",
       "    </tr>\n",
       "  </thead>\n",
       "  <tbody>\n",
       "    <tr>\n",
       "      <th>count</th>\n",
       "      <td>119.000000</td>\n",
       "      <td>119.000000</td>\n",
       "      <td>119.000000</td>\n",
       "      <td>119.000000</td>\n",
       "    </tr>\n",
       "    <tr>\n",
       "      <th>mean</th>\n",
       "      <td>13.605042</td>\n",
       "      <td>86.310924</td>\n",
       "      <td>5.907563</td>\n",
       "      <td>2.848739</td>\n",
       "    </tr>\n",
       "    <tr>\n",
       "      <th>std</th>\n",
       "      <td>7.455198</td>\n",
       "      <td>9.180624</td>\n",
       "      <td>3.191598</td>\n",
       "      <td>1.381713</td>\n",
       "    </tr>\n",
       "    <tr>\n",
       "      <th>min</th>\n",
       "      <td>1.000000</td>\n",
       "      <td>70.000000</td>\n",
       "      <td>1.000000</td>\n",
       "      <td>1.000000</td>\n",
       "    </tr>\n",
       "    <tr>\n",
       "      <th>25%</th>\n",
       "      <td>7.000000</td>\n",
       "      <td>78.500000</td>\n",
       "      <td>3.000000</td>\n",
       "      <td>2.000000</td>\n",
       "    </tr>\n",
       "    <tr>\n",
       "      <th>50%</th>\n",
       "      <td>14.000000</td>\n",
       "      <td>88.000000</td>\n",
       "      <td>6.000000</td>\n",
       "      <td>3.000000</td>\n",
       "    </tr>\n",
       "    <tr>\n",
       "      <th>75%</th>\n",
       "      <td>20.000000</td>\n",
       "      <td>94.000000</td>\n",
       "      <td>8.500000</td>\n",
       "      <td>4.000000</td>\n",
       "    </tr>\n",
       "    <tr>\n",
       "      <th>max</th>\n",
       "      <td>25.000000</td>\n",
       "      <td>100.000000</td>\n",
       "      <td>11.000000</td>\n",
       "      <td>5.000000</td>\n",
       "    </tr>\n",
       "  </tbody>\n",
       "</table>\n",
       "</div>"
      ],
      "text/plain": [
       "       TRIPS COMPLETED   ACCEPT RATE (%)  SUPPLY HOURS      RATING\n",
       "count        119.000000       119.000000    119.000000  119.000000\n",
       "mean          13.605042        86.310924      5.907563    2.848739\n",
       "std            7.455198         9.180624      3.191598    1.381713\n",
       "min            1.000000        70.000000      1.000000    1.000000\n",
       "25%            7.000000        78.500000      3.000000    2.000000\n",
       "50%           14.000000        88.000000      6.000000    3.000000\n",
       "75%           20.000000        94.000000      8.500000    4.000000\n",
       "max           25.000000       100.000000     11.000000    5.000000"
      ]
     },
     "execution_count": 404,
     "metadata": {},
     "output_type": "execute_result"
    }
   ],
   "source": [
    "p2_df.describe()"
   ]
  },
  {
   "cell_type": "code",
   "execution_count": 405,
   "metadata": {},
   "outputs": [
    {
     "data": {
      "text/plain": [
       "(119, 5)"
      ]
     },
     "execution_count": 405,
     "metadata": {},
     "output_type": "execute_result"
    }
   ],
   "source": [
    "p2_df.shape"
   ]
  },
  {
   "cell_type": "code",
   "execution_count": 406,
   "metadata": {},
   "outputs": [
    {
     "data": {
      "text/plain": [
       "Index(['Name', 'TRIPS COMPLETED ', 'ACCEPT RATE (%)', 'SUPPLY HOURS',\n",
       "       'RATING'],\n",
       "      dtype='object')"
      ]
     },
     "execution_count": 406,
     "metadata": {},
     "output_type": "execute_result"
    }
   ],
   "source": [
    "p2_df.columns"
   ]
  },
  {
   "cell_type": "markdown",
   "metadata": {},
   "source": [
    "Exploratory Data Analysis"
   ]
  },
  {
   "cell_type": "code",
   "execution_count": 407,
   "metadata": {},
   "outputs": [],
   "source": [
    "# plot function\n",
    "def plot_eda(df, col_group, col_agg):\n",
    "    \"\"\" Group df by col_group then count number of values in col_agg\n",
    "    \"\"\"\n",
    "    a = df.groupby(col_group)[col_agg].count().reset_index()\n",
    "    fig, ax = plt.subplots()\n",
    "    fig.set_size_inches(10,6)\n",
    "    bars = ax.bar(a[col_group], a[col_agg])\n",
    "    for bar in bars:\n",
    "        yval = bar.get_height()\n",
    "        ax.text(x=bar.get_x()+bar.get_width()/2.0, y=yval+0.05, s=int(yval), ha='center', fontsize=7.5)\n",
    "    ax.set_xticks(a[col_group])\n",
    "    ax.set_xlabel(f'{col_group}')\n",
    "    ax.set_ylabel('Number of Drivers')\n",
    "    ax.set_title(f'Driver Distribution Across {col_group}')"
   ]
  },
  {
   "cell_type": "code",
   "execution_count": 408,
   "metadata": {},
   "outputs": [
    {
     "data": {
      "image/png": "[encoded data removed]",
      "text/plain": [
       "<Figure size 1000x600 with 1 Axes>"
      ]
     },
     "metadata": {},
     "output_type": "display_data"
    }
   ],
   "source": [
    "plot_eda(p2_df, 'TRIPS COMPLETED ', 'Name')"
   ]
  },
  {
   "cell_type": "code",
   "execution_count": 409,
   "metadata": {},
   "outputs": [
    {
     "data": {
      "image/png": "[encoded data removed]",
      "text/plain": [
       "<Figure size 1000x600 with 1 Axes>"
      ]
     },
     "metadata": {},
     "output_type": "display_data"
    }
   ],
   "source": [
    "plot_eda(p2_df, 'ACCEPT RATE (%)', 'Name')"
   ]
  },
  {
   "cell_type": "code",
   "execution_count": 410,
   "metadata": {},
   "outputs": [
    {
     "data": {
      "image/png": "[encoded data removed]",
      "text/plain": [
       "<Figure size 1000x600 with 1 Axes>"
      ]
     },
     "metadata": {},
     "output_type": "display_data"
    }
   ],
   "source": [
    "plot_eda(p2_df, 'RATING', 'Name')"
   ]
  },
  {
   "cell_type": "code",
   "execution_count": 411,
   "metadata": {},
   "outputs": [
    {
     "data": {
      "image/png": "[encoded data removed]",
      "text/plain": [
       "<Figure size 1000x600 with 1 Axes>"
      ]
     },
     "metadata": {},
     "output_type": "display_data"
    }
   ],
   "source": [
    "plot_eda(p2_df, 'SUPPLY HOURS', 'Name')"
   ]
  },
  {
   "cell_type": "code",
   "execution_count": 412,
   "metadata": {},
   "outputs": [
    {
     "data": {
      "text/plain": [
       "Name                0\n",
       "TRIPS COMPLETED     0\n",
       "ACCEPT RATE (%)     0\n",
       "SUPPLY HOURS        0\n",
       "RATING              0\n",
       "dtype: int64"
      ]
     },
     "execution_count": 412,
     "metadata": {},
     "output_type": "execute_result"
    }
   ],
   "source": [
    "# checking missing values\n",
    "p2_df.isna().sum()"
   ]
  },
  {
   "cell_type": "code",
   "execution_count": 413,
   "metadata": {},
   "outputs": [
    {
     "data": {
      "text/plain": [
       "0"
      ]
     },
     "execution_count": 413,
     "metadata": {},
     "output_type": "execute_result"
    }
   ],
   "source": [
    "# checking duplicated values\n",
    "p2_df.duplicated().sum()"
   ]
  },
  {
   "cell_type": "markdown",
   "metadata": {},
   "source": [
    "Now that, we have loaded the dataset into a dataframe, we can start answering all questions in Part 2"
   ]
  },
  {
   "cell_type": "markdown",
   "metadata": {},
   "source": [
    "*Scenario 1*: The 4th of July is coming up and the maximum fleet is needed. In order to get drivers to go online, we're assessing the following two bonus options in terms of cost:\n",
    "\n",
    "- Promotion 1: $100 bonus to each driver who is online for at least 5 hours, accepts more than 78% of requests, completes 15 trips and has a 4 or 5 rating at this time.\n",
    "\n",
    "- Promotion 2: A $5 bonus per trip to each driver that completes at least 15 trips and has a rating at least 4.\n",
    "\n",
    "Q1. How much will drivers be paid with Promotion 1?\n",
    "\n",
    "Q2. How much will drivers be paid with Promotion 2?\n",
    "\n",
    "Q3. How many drivers would qualify for a bonus under Promotion 1 but not under Promotion 2?\n",
    "\n",
    "Q4. Uber wants to give out awards to its drivers. Award criteria: Complete more than 23 trips in an 8 hour shift with an 80% acceptance rate and a rating of 4 or 5. Please determine which drivers will be given awards?\n"
   ]
  },
  {
   "cell_type": "markdown",
   "metadata": {},
   "source": [
    "Before compute the amount of bonus for those qualified drivers, let's filter out drivers who meet the qualifications of each promotions"
   ]
  },
  {
   "cell_type": "code",
   "execution_count": 414,
   "metadata": {},
   "outputs": [
    {
     "data": {
      "text/plain": [
       "Index(['Name', 'TRIPS COMPLETED ', 'ACCEPT RATE (%)', 'SUPPLY HOURS',\n",
       "       'RATING'],\n",
       "      dtype='object')"
      ]
     },
     "execution_count": 414,
     "metadata": {},
     "output_type": "execute_result"
    }
   ],
   "source": [
    "p2_df.columns"
   ]
  },
  {
   "cell_type": "code",
   "execution_count": 415,
   "metadata": {},
   "outputs": [
    {
     "data": {
      "text/html": [
       "<div>\n",
       "<style scoped>\n",
       "    .dataframe tbody tr th:only-of-type {\n",
       "        vertical-align: middle;\n",
       "    }\n",
       "\n",
       "    .dataframe tbody tr th {\n",
       "        vertical-align: top;\n",
       "    }\n",
       "\n",
       "    .dataframe thead th {\n",
       "        text-align: right;\n",
       "    }\n",
       "</style>\n",
       "<table border=\"1\" class=\"dataframe\">\n",
       "  <thead>\n",
       "    <tr style=\"text-align: right;\">\n",
       "      <th></th>\n",
       "      <th>Name</th>\n",
       "      <th>TRIPS COMPLETED</th>\n",
       "      <th>ACCEPT RATE (%)</th>\n",
       "      <th>SUPPLY HOURS</th>\n",
       "      <th>RATING</th>\n",
       "    </tr>\n",
       "  </thead>\n",
       "  <tbody>\n",
       "    <tr>\n",
       "      <th>21</th>\n",
       "      <td>UberDriver22</td>\n",
       "      <td>19</td>\n",
       "      <td>84</td>\n",
       "      <td>8</td>\n",
       "      <td>5</td>\n",
       "    </tr>\n",
       "    <tr>\n",
       "      <th>23</th>\n",
       "      <td>UberDriver24</td>\n",
       "      <td>23</td>\n",
       "      <td>91</td>\n",
       "      <td>8</td>\n",
       "      <td>5</td>\n",
       "    </tr>\n",
       "    <tr>\n",
       "      <th>48</th>\n",
       "      <td>UberDriver49</td>\n",
       "      <td>22</td>\n",
       "      <td>86</td>\n",
       "      <td>5</td>\n",
       "      <td>5</td>\n",
       "    </tr>\n",
       "    <tr>\n",
       "      <th>49</th>\n",
       "      <td>UberDriver50</td>\n",
       "      <td>15</td>\n",
       "      <td>81</td>\n",
       "      <td>6</td>\n",
       "      <td>4</td>\n",
       "    </tr>\n",
       "    <tr>\n",
       "      <th>65</th>\n",
       "      <td>UberDriver66</td>\n",
       "      <td>15</td>\n",
       "      <td>79</td>\n",
       "      <td>11</td>\n",
       "      <td>4</td>\n",
       "    </tr>\n",
       "    <tr>\n",
       "      <th>81</th>\n",
       "      <td>UberDriver82</td>\n",
       "      <td>15</td>\n",
       "      <td>100</td>\n",
       "      <td>7</td>\n",
       "      <td>4</td>\n",
       "    </tr>\n",
       "    <tr>\n",
       "      <th>82</th>\n",
       "      <td>UberDriver83</td>\n",
       "      <td>24</td>\n",
       "      <td>91</td>\n",
       "      <td>8</td>\n",
       "      <td>5</td>\n",
       "    </tr>\n",
       "    <tr>\n",
       "      <th>105</th>\n",
       "      <td>UberDriver106</td>\n",
       "      <td>23</td>\n",
       "      <td>90</td>\n",
       "      <td>9</td>\n",
       "      <td>4</td>\n",
       "    </tr>\n",
       "  </tbody>\n",
       "</table>\n",
       "</div>"
      ],
      "text/plain": [
       "              Name  TRIPS COMPLETED   ACCEPT RATE (%)  SUPPLY HOURS  RATING\n",
       "21    UberDriver22                19               84             8       5\n",
       "23    UberDriver24                23               91             8       5\n",
       "48    UberDriver49                22               86             5       5\n",
       "49    UberDriver50                15               81             6       4\n",
       "65    UberDriver66                15               79            11       4\n",
       "81    UberDriver82                15              100             7       4\n",
       "82    UberDriver83                24               91             8       5\n",
       "105  UberDriver106                23               90             9       4"
      ]
     },
     "execution_count": 415,
     "metadata": {},
     "output_type": "execute_result"
    }
   ],
   "source": [
    "# Answer Q1\n",
    "\n",
    "# filter out drivers who meet the qualifications of promotion 1\n",
    "promotion1 = p2_df[(p2_df['SUPPLY HOURS']>=5)&(p2_df['ACCEPT RATE (%)']>78)&(p2_df['TRIPS COMPLETED ']>=15)&(p2_df['RATING']>=4)]\n",
    "promotion1"
   ]
  },
  {
   "cell_type": "code",
   "execution_count": 416,
   "metadata": {},
   "outputs": [
    {
     "name": "stdout",
     "output_type": "stream",
     "text": [
      "The total bonus payout with promotion 1 would be $800\n"
     ]
    }
   ],
   "source": [
    "# calculate bonus\n",
    "bonus_promotion1 = len(promotion1)*100\n",
    "print(f'The total bonus payout with promotion 1 would be ${bonus_promotion1}')"
   ]
  },
  {
   "cell_type": "markdown",
   "metadata": {},
   "source": [
    "=> Ans Q1: The total bonus payout with promotion 1 would be $800"
   ]
  },
  {
   "cell_type": "code",
   "execution_count": 417,
   "metadata": {},
   "outputs": [
    {
     "data": {
      "text/html": [
       "<div>\n",
       "<style scoped>\n",
       "    .dataframe tbody tr th:only-of-type {\n",
       "        vertical-align: middle;\n",
       "    }\n",
       "\n",
       "    .dataframe tbody tr th {\n",
       "        vertical-align: top;\n",
       "    }\n",
       "\n",
       "    .dataframe thead th {\n",
       "        text-align: right;\n",
       "    }\n",
       "</style>\n",
       "<table border=\"1\" class=\"dataframe\">\n",
       "  <thead>\n",
       "    <tr style=\"text-align: right;\">\n",
       "      <th></th>\n",
       "      <th>Name</th>\n",
       "      <th>TRIPS COMPLETED</th>\n",
       "      <th>ACCEPT RATE (%)</th>\n",
       "      <th>SUPPLY HOURS</th>\n",
       "      <th>RATING</th>\n",
       "    </tr>\n",
       "  </thead>\n",
       "  <tbody>\n",
       "    <tr>\n",
       "      <th>0</th>\n",
       "      <td>UberDriver1</td>\n",
       "      <td>18</td>\n",
       "      <td>83</td>\n",
       "      <td>4</td>\n",
       "      <td>4</td>\n",
       "    </tr>\n",
       "    <tr>\n",
       "      <th>14</th>\n",
       "      <td>UberDriver15</td>\n",
       "      <td>16</td>\n",
       "      <td>93</td>\n",
       "      <td>1</td>\n",
       "      <td>4</td>\n",
       "    </tr>\n",
       "    <tr>\n",
       "      <th>21</th>\n",
       "      <td>UberDriver22</td>\n",
       "      <td>19</td>\n",
       "      <td>84</td>\n",
       "      <td>8</td>\n",
       "      <td>5</td>\n",
       "    </tr>\n",
       "    <tr>\n",
       "      <th>23</th>\n",
       "      <td>UberDriver24</td>\n",
       "      <td>23</td>\n",
       "      <td>91</td>\n",
       "      <td>8</td>\n",
       "      <td>5</td>\n",
       "    </tr>\n",
       "    <tr>\n",
       "      <th>27</th>\n",
       "      <td>UberDriver28</td>\n",
       "      <td>18</td>\n",
       "      <td>87</td>\n",
       "      <td>3</td>\n",
       "      <td>5</td>\n",
       "    </tr>\n",
       "    <tr>\n",
       "      <th>42</th>\n",
       "      <td>UberDriver43</td>\n",
       "      <td>22</td>\n",
       "      <td>77</td>\n",
       "      <td>7</td>\n",
       "      <td>5</td>\n",
       "    </tr>\n",
       "    <tr>\n",
       "      <th>48</th>\n",
       "      <td>UberDriver49</td>\n",
       "      <td>22</td>\n",
       "      <td>86</td>\n",
       "      <td>5</td>\n",
       "      <td>5</td>\n",
       "    </tr>\n",
       "    <tr>\n",
       "      <th>49</th>\n",
       "      <td>UberDriver50</td>\n",
       "      <td>15</td>\n",
       "      <td>81</td>\n",
       "      <td>6</td>\n",
       "      <td>4</td>\n",
       "    </tr>\n",
       "    <tr>\n",
       "      <th>65</th>\n",
       "      <td>UberDriver66</td>\n",
       "      <td>15</td>\n",
       "      <td>79</td>\n",
       "      <td>11</td>\n",
       "      <td>4</td>\n",
       "    </tr>\n",
       "    <tr>\n",
       "      <th>66</th>\n",
       "      <td>UberDriver67</td>\n",
       "      <td>21</td>\n",
       "      <td>70</td>\n",
       "      <td>1</td>\n",
       "      <td>4</td>\n",
       "    </tr>\n",
       "    <tr>\n",
       "      <th>75</th>\n",
       "      <td>UberDriver76</td>\n",
       "      <td>25</td>\n",
       "      <td>75</td>\n",
       "      <td>8</td>\n",
       "      <td>5</td>\n",
       "    </tr>\n",
       "    <tr>\n",
       "      <th>81</th>\n",
       "      <td>UberDriver82</td>\n",
       "      <td>15</td>\n",
       "      <td>100</td>\n",
       "      <td>7</td>\n",
       "      <td>4</td>\n",
       "    </tr>\n",
       "    <tr>\n",
       "      <th>82</th>\n",
       "      <td>UberDriver83</td>\n",
       "      <td>24</td>\n",
       "      <td>91</td>\n",
       "      <td>8</td>\n",
       "      <td>5</td>\n",
       "    </tr>\n",
       "    <tr>\n",
       "      <th>105</th>\n",
       "      <td>UberDriver106</td>\n",
       "      <td>23</td>\n",
       "      <td>90</td>\n",
       "      <td>9</td>\n",
       "      <td>4</td>\n",
       "    </tr>\n",
       "    <tr>\n",
       "      <th>115</th>\n",
       "      <td>UberDriver116</td>\n",
       "      <td>24</td>\n",
       "      <td>72</td>\n",
       "      <td>10</td>\n",
       "      <td>4</td>\n",
       "    </tr>\n",
       "  </tbody>\n",
       "</table>\n",
       "</div>"
      ],
      "text/plain": [
       "              Name  TRIPS COMPLETED   ACCEPT RATE (%)  SUPPLY HOURS  RATING\n",
       "0      UberDriver1                18               83             4       4\n",
       "14    UberDriver15                16               93             1       4\n",
       "21    UberDriver22                19               84             8       5\n",
       "23    UberDriver24                23               91             8       5\n",
       "27    UberDriver28                18               87             3       5\n",
       "42    UberDriver43                22               77             7       5\n",
       "48    UberDriver49                22               86             5       5\n",
       "49    UberDriver50                15               81             6       4\n",
       "65    UberDriver66                15               79            11       4\n",
       "66    UberDriver67                21               70             1       4\n",
       "75    UberDriver76                25               75             8       5\n",
       "81    UberDriver82                15              100             7       4\n",
       "82    UberDriver83                24               91             8       5\n",
       "105  UberDriver106                23               90             9       4\n",
       "115  UberDriver116                24               72            10       4"
      ]
     },
     "execution_count": 417,
     "metadata": {},
     "output_type": "execute_result"
    }
   ],
   "source": [
    "# Answer Q2\n",
    "\n",
    "# filter out drivers who meet the qualifications of promotion 2\n",
    "promotion2 = p2_df[(p2_df['TRIPS COMPLETED ']>=15)&(p2_df['RATING']>=4)]\n",
    "promotion2"
   ]
  },
  {
   "cell_type": "code",
   "execution_count": 418,
   "metadata": {},
   "outputs": [
    {
     "name": "stdout",
     "output_type": "stream",
     "text": [
      "The total bonus payout with promotion 2 would be $1500\n"
     ]
    }
   ],
   "source": [
    "# calculate bonus\n",
    "bonus_promotion2 = promotion2['TRIPS COMPLETED '].sum()*5\n",
    "print(f'The total bonus payout with promotion 2 would be ${bonus_promotion2}')"
   ]
  },
  {
   "cell_type": "markdown",
   "metadata": {},
   "source": [
    "=> Ans Q2: The total bonus payout with promotion 2 would be $1500"
   ]
  },
  {
   "cell_type": "code",
   "execution_count": 420,
   "metadata": {},
   "outputs": [
    {
     "data": {
      "text/html": [
       "<div>\n",
       "<style scoped>\n",
       "    .dataframe tbody tr th:only-of-type {\n",
       "        vertical-align: middle;\n",
       "    }\n",
       "\n",
       "    .dataframe tbody tr th {\n",
       "        vertical-align: top;\n",
       "    }\n",
       "\n",
       "    .dataframe thead th {\n",
       "        text-align: right;\n",
       "    }\n",
       "</style>\n",
       "<table border=\"1\" class=\"dataframe\">\n",
       "  <thead>\n",
       "    <tr style=\"text-align: right;\">\n",
       "      <th></th>\n",
       "      <th>Name</th>\n",
       "      <th>TRIPS COMPLETED</th>\n",
       "      <th>ACCEPT RATE (%)</th>\n",
       "      <th>SUPPLY HOURS</th>\n",
       "      <th>RATING</th>\n",
       "      <th>_merge</th>\n",
       "    </tr>\n",
       "  </thead>\n",
       "  <tbody>\n",
       "    <tr>\n",
       "      <th>0</th>\n",
       "      <td>UberDriver22</td>\n",
       "      <td>19</td>\n",
       "      <td>84</td>\n",
       "      <td>8</td>\n",
       "      <td>5</td>\n",
       "      <td>both</td>\n",
       "    </tr>\n",
       "    <tr>\n",
       "      <th>1</th>\n",
       "      <td>UberDriver24</td>\n",
       "      <td>23</td>\n",
       "      <td>91</td>\n",
       "      <td>8</td>\n",
       "      <td>5</td>\n",
       "      <td>both</td>\n",
       "    </tr>\n",
       "    <tr>\n",
       "      <th>2</th>\n",
       "      <td>UberDriver49</td>\n",
       "      <td>22</td>\n",
       "      <td>86</td>\n",
       "      <td>5</td>\n",
       "      <td>5</td>\n",
       "      <td>both</td>\n",
       "    </tr>\n",
       "    <tr>\n",
       "      <th>3</th>\n",
       "      <td>UberDriver50</td>\n",
       "      <td>15</td>\n",
       "      <td>81</td>\n",
       "      <td>6</td>\n",
       "      <td>4</td>\n",
       "      <td>both</td>\n",
       "    </tr>\n",
       "    <tr>\n",
       "      <th>4</th>\n",
       "      <td>UberDriver66</td>\n",
       "      <td>15</td>\n",
       "      <td>79</td>\n",
       "      <td>11</td>\n",
       "      <td>4</td>\n",
       "      <td>both</td>\n",
       "    </tr>\n",
       "    <tr>\n",
       "      <th>5</th>\n",
       "      <td>UberDriver82</td>\n",
       "      <td>15</td>\n",
       "      <td>100</td>\n",
       "      <td>7</td>\n",
       "      <td>4</td>\n",
       "      <td>both</td>\n",
       "    </tr>\n",
       "    <tr>\n",
       "      <th>6</th>\n",
       "      <td>UberDriver83</td>\n",
       "      <td>24</td>\n",
       "      <td>91</td>\n",
       "      <td>8</td>\n",
       "      <td>5</td>\n",
       "      <td>both</td>\n",
       "    </tr>\n",
       "    <tr>\n",
       "      <th>7</th>\n",
       "      <td>UberDriver106</td>\n",
       "      <td>23</td>\n",
       "      <td>90</td>\n",
       "      <td>9</td>\n",
       "      <td>4</td>\n",
       "      <td>both</td>\n",
       "    </tr>\n",
       "  </tbody>\n",
       "</table>\n",
       "</div>"
      ],
      "text/plain": [
       "            Name  TRIPS COMPLETED   ACCEPT RATE (%)  SUPPLY HOURS  RATING   \n",
       "0   UberDriver22                19               84             8       5  \\\n",
       "1   UberDriver24                23               91             8       5   \n",
       "2   UberDriver49                22               86             5       5   \n",
       "3   UberDriver50                15               81             6       4   \n",
       "4   UberDriver66                15               79            11       4   \n",
       "5   UberDriver82                15              100             7       4   \n",
       "6   UberDriver83                24               91             8       5   \n",
       "7  UberDriver106                23               90             9       4   \n",
       "\n",
       "  _merge  \n",
       "0   both  \n",
       "1   both  \n",
       "2   both  \n",
       "3   both  \n",
       "4   both  \n",
       "5   both  \n",
       "6   both  \n",
       "7   both  "
      ]
     },
     "execution_count": 420,
     "metadata": {},
     "output_type": "execute_result"
    }
   ],
   "source": [
    "# Answer Q3\n",
    "\n",
    "# use left join to screen values under promotion 1 and not under promotion 2\n",
    "df1 = pd.merge(promotion1, promotion2, how='left', on=promotion1.columns.to_list(), indicator=True)\n",
    "df1"
   ]
  },
  {
   "cell_type": "code",
   "execution_count": 421,
   "metadata": {},
   "outputs": [
    {
     "data": {
      "text/html": [
       "<div>\n",
       "<style scoped>\n",
       "    .dataframe tbody tr th:only-of-type {\n",
       "        vertical-align: middle;\n",
       "    }\n",
       "\n",
       "    .dataframe tbody tr th {\n",
       "        vertical-align: top;\n",
       "    }\n",
       "\n",
       "    .dataframe thead th {\n",
       "        text-align: right;\n",
       "    }\n",
       "</style>\n",
       "<table border=\"1\" class=\"dataframe\">\n",
       "  <thead>\n",
       "    <tr style=\"text-align: right;\">\n",
       "      <th></th>\n",
       "      <th>Name</th>\n",
       "      <th>TRIPS COMPLETED</th>\n",
       "      <th>ACCEPT RATE (%)</th>\n",
       "      <th>SUPPLY HOURS</th>\n",
       "      <th>RATING</th>\n",
       "      <th>_merge</th>\n",
       "    </tr>\n",
       "  </thead>\n",
       "  <tbody>\n",
       "  </tbody>\n",
       "</table>\n",
       "</div>"
      ],
      "text/plain": [
       "Empty DataFrame\n",
       "Columns: [Name, TRIPS COMPLETED , ACCEPT RATE (%), SUPPLY HOURS, RATING, _merge]\n",
       "Index: []"
      ]
     },
     "execution_count": 421,
     "metadata": {},
     "output_type": "execute_result"
    }
   ],
   "source": [
    "# included by only promotion 1\n",
    "df1[df1['_merge']=='left_only']"
   ]
  },
  {
   "cell_type": "markdown",
   "metadata": {},
   "source": [
    "=> Ans Q3: There are 0 driver included in promotion 1 and not in promotion 2"
   ]
  },
  {
   "cell_type": "code",
   "execution_count": 423,
   "metadata": {},
   "outputs": [
    {
     "data": {
      "text/html": [
       "<div>\n",
       "<style scoped>\n",
       "    .dataframe tbody tr th:only-of-type {\n",
       "        vertical-align: middle;\n",
       "    }\n",
       "\n",
       "    .dataframe tbody tr th {\n",
       "        vertical-align: top;\n",
       "    }\n",
       "\n",
       "    .dataframe thead th {\n",
       "        text-align: right;\n",
       "    }\n",
       "</style>\n",
       "<table border=\"1\" class=\"dataframe\">\n",
       "  <thead>\n",
       "    <tr style=\"text-align: right;\">\n",
       "      <th></th>\n",
       "      <th>Name</th>\n",
       "      <th>TRIPS COMPLETED</th>\n",
       "      <th>ACCEPT RATE (%)</th>\n",
       "      <th>SUPPLY HOURS</th>\n",
       "      <th>RATING</th>\n",
       "    </tr>\n",
       "  </thead>\n",
       "  <tbody>\n",
       "    <tr>\n",
       "      <th>82</th>\n",
       "      <td>UberDriver83</td>\n",
       "      <td>24</td>\n",
       "      <td>91</td>\n",
       "      <td>8</td>\n",
       "      <td>5</td>\n",
       "    </tr>\n",
       "  </tbody>\n",
       "</table>\n",
       "</div>"
      ],
      "text/plain": [
       "            Name  TRIPS COMPLETED   ACCEPT RATE (%)  SUPPLY HOURS  RATING\n",
       "82  UberDriver83                24               91             8       5"
      ]
     },
     "execution_count": 423,
     "metadata": {},
     "output_type": "execute_result"
    }
   ],
   "source": [
    "# Answer Q4\n",
    "\n",
    "# filter out the driver who meet adward criteria\n",
    "adward = p2_df[(p2_df['TRIPS COMPLETED ']>23)&(p2_df['SUPPLY HOURS']==8)&(p2_df['ACCEPT RATE (%)']>=80)&(p2_df['RATING']>=4)]\n",
    "adward"
   ]
  },
  {
   "cell_type": "markdown",
   "metadata": {},
   "source": [
    "=> Ans Q4: Driver 83 is the driver that meet all adward criteria."
   ]
  },
  {
   "cell_type": "markdown",
   "metadata": {},
   "source": [
    "*Scenario 2*: A taxi driver currently generates $300 per day in fares (before expenses), works five days a week, takes two weeks off, and has the following expenses:\n",
    "\n",
    "- Gas is $100 per week\n",
    "- Insurance is $400 per month\n",
    "- Prius lease is $300 per week (Vehicle rent)\n",
    "\n",
    "The driver doesn't pay gas and rent expenses on off weeks.\n",
    "\n",
    "A driver wants to upgrade from X to Black driver. The driver needs to purchase a new vehicle. They want to upgrade to a 2015 Hyundai Sonata. Assuming Hyundai Sonata costs is $49500.\n",
    "\n",
    "Q1. Calculate the net income for a driver in a year\n",
    "\n",
    "Q2. How much would the driver's gross fares need to increase per week to fully pay for the car in year 1 and maintain the same yearly profit margin as before?"
   ]
  },
  {
   "cell_type": "code",
   "execution_count": 424,
   "metadata": {},
   "outputs": [],
   "source": [
    "# Answer Q1\n",
    "\n",
    "# Revenue\n",
    "months = 12\n",
    "total_week_per_year = 52\n",
    "working_days = 5\n",
    "daily_fare = 300\n",
    "\n",
    "# Expenses\n",
    "gas_per_week = 100\n",
    "insurance_per_month = 400\n",
    "rent_per_week = 300"
   ]
  },
  {
   "cell_type": "code",
   "execution_count": 430,
   "metadata": {},
   "outputs": [
    {
     "name": "stdout",
     "output_type": "stream",
     "text": [
      "The taxi driver makes $75000, in fares before expenses\n",
      "Total expenses for each driver per year would be $24800\n",
      "The net income for each taxi driver per year is $50200, which consitutues a profit margin of 66.93%\n"
     ]
    }
   ],
   "source": [
    "annual_gross_fares = daily_fare*(total_week_per_year-2)*working_days\n",
    "print(f'The taxi driver makes ${annual_gross_fares}, in fares before expenses')\n",
    "total_expenses = (gas_per_week+rent_per_week)*(total_week_per_year-2)+insurance_per_month*months\n",
    "print(f'Total expenses for each driver per year would be ${total_expenses}')\n",
    "net_income = annual_gross_fares - total_expenses\n",
    "profit = net_income / annual_gross_fares\n",
    "profit_margin = round(profit*100,2)\n",
    "print(f'The net income for each taxi driver per year is ${net_income}, which consitutues a profit margin of {profit_margin}%')"
   ]
  },
  {
   "cell_type": "code",
   "execution_count": 431,
   "metadata": {},
   "outputs": [
    {
     "name": "stdout",
     "output_type": "stream",
     "text": [
      "Total expenses should be $59300\n"
     ]
    }
   ],
   "source": [
    "# Answer Q2\n",
    "\n",
    "# total new expenses for each Black driver\n",
    "new_car = 49500\n",
    "total_new_expenses = new_car + gas_per_week*(total_week_per_year-2) + insurance_per_month*months\n",
    "print(f'Total expenses should be ${total_new_expenses}')"
   ]
  },
  {
   "cell_type": "code",
   "execution_count": 432,
   "metadata": {},
   "outputs": [
    {
     "name": "stdout",
     "output_type": "stream",
     "text": [
      "Uber driver should raise weekly fares by $690.0\n"
     ]
    }
   ],
   "source": [
    "new_annual_gross_fare = net_income + total_new_expenses\n",
    "new_daily_fare = new_annual_gross_fare / ((total_week_per_year-2)*working_days)\n",
    "gross_fare_increase_per_day = new_daily_fare - daily_fare\n",
    "gross_fare_increase_per_week = gross_fare_increase_per_day*5\n",
    "print(f'Uber driver should raise weekly fares by ${gross_fare_increase_per_week}')"
   ]
  },
  {
   "cell_type": "markdown",
   "metadata": {},
   "source": [
    "=> Uber drivers need to earn an additional $690 per week in the first year to pay off their car payments in 1 year and maintain the same net income as before."
   ]
  }
 ],
 "metadata": {
  "kernelspec": {
   "display_name": "Python 3",
   "language": "python",
   "name": "python3"
  },
  "language_info": {
   "codemirror_mode": {
    "name": "ipython",
    "version": 3
   },
   "file_extension": ".py",
   "mimetype": "text/x-python",
   "name": "python",
   "nbconvert_exporter": "python",
   "pygments_lexer": "ipython3",
   "version": "3.11.2"
  }
 },
 "nbformat": 4,
 "nbformat_minor": 2
}
